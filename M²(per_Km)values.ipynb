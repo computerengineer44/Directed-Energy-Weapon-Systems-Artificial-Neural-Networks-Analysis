{
  "nbformat": 4,
  "nbformat_minor": 0,
  "metadata": {
    "colab": {
      "provenance": [],
      "authorship_tag": "ABX9TyPir6ZaZHRfcjYtRu0n2ypd",
      "include_colab_link": true
    },
    "kernelspec": {
      "name": "python3",
      "display_name": "Python 3"
    },
    "language_info": {
      "name": "python"
    }
  },
  "cells": [
    {
      "cell_type": "markdown",
      "metadata": {
        "id": "view-in-github",
        "colab_type": "text"
      },
      "source": [
        "<a href=\"https://colab.research.google.com/github/computerengineer44/Directed-Energy-Weapon-Systems-Artificial-Neural-Networks-Analysis/blob/main/M%C2%B2(per_Km)values.ipynb\" target=\"_parent\"><img src=\"https://colab.research.google.com/assets/colab-badge.svg\" alt=\"Open In Colab\"/></a>"
      ]
    },
    {
      "cell_type": "code",
      "execution_count": 22,
      "metadata": {
        "id": "Fb_QatXNNxSn"
      },
      "outputs": [],
      "source": [
        "import pandas as pd\n",
        "import numpy as np\n",
        "import matplotlib.pyplot as plt\n",
        "from sklearn.model_selection import train_test_split\n",
        "from sklearn.preprocessing import StandardScaler\n",
        "from sklearn.neural_network import MLPRegressor\n",
        "from sklearn.metrics import mean_squared_error, mean_absolute_error\n",
        "from tensorflow.keras.models import Sequential\n",
        "from tensorflow.keras.layers import Dense"
      ]
    },
    {
      "cell_type": "code",
      "source": [
        "Atmospheric_attenuation = np.array([2.641, 1.194, 0.741, 0.527, 0.163, 0.116 ])\n",
        "Fiber_Lazer_Weapon_System_Range = np.array([1, 2, 3, 4, 10, 14])\n",
        "N_fiber_1  = np.array([0.25, 0.5, 0.75, 1, 2.5, 3.5])\n",
        "N_fiber_8  = np.array([0.707, 1.1414, 2.121, 2.828, 7.071, 9.899])\n",
        "N_fiber_10 = np.array([0.79, 1.581, 2.371, 3.162, 7.905, 11.067])\n",
        "N_fiber_12 = np.array([0.866, 1.732, 2.598, 3.464, 8.66, 12.12 ])\n",
        "N_fiber_14 = np.array([0.935, 1.87, 2.806, 3.741, 9.354, 13.09 ])\n",
        "N_fiber_16 = np.array([1, 2, 3, 4, 10, 14 ])\n",
        "N_fiber_24 = np.array([1.224, 2.449, 3.674, 4.898, 12.247, 17.146 ])\n",
        "N_fiber_31 = np.array([1.391, 2.783, 4.175, 5.567, 13.919, 19.487 ])\n",
        "N_fiber_37 = np.array([1.52, 3.041, 4.562, 6.082, 15.206, 21.289 ])\n",
        "N_fiber_57 = np.array([1.887, 3.774, 5.662, 7.549, 18.874, 26.424 ])\n",
        "N_fiber_79 = np.array([2.222, 4.444, 6.666, 8.888, 22.22, 31.108 ])\n"
      ],
      "metadata": {
        "id": "TRfGN1A7N0wb"
      },
      "execution_count": 23,
      "outputs": []
    },
    {
      "cell_type": "code",
      "source": [
        "import pandas as pd\n",
        "\n",
        "data = {\n",
        "    'Atmospheric_attenuation' : [2.641, 1.194, 0.741, 0.527, 0.163, 0.116 ],\n",
        "    'Fiber_Lazer_Weapon_System_Range' : [1, 2, 3, 4, 10, 14],\n",
        "}\n",
        "\n",
        "output = {\n",
        "    'N_fiber_1' : [0.25, 0.5, 0.75, 1, 2.5, 3.5],\n",
        "    'N_fiber_8'  : [0.707, 1.1414, 2.121, 2.828, 7.071, 9.899],\n",
        "    'N_fiber_10' : [0.79, 1.581, 2.371, 3.162, 7.905, 11.067],\n",
        "    'N_fiber_12' : [0.866, 1.732, 2.598, 3.464, 8.66, 12.12 ],\n",
        "    'N_fiber_14' : [0.935, 1.87, 2.806, 3.741, 9.354, 13.09 ],\n",
        "    'N_fiber_16' : [1, 2, 3, 4, 10, 14 ],\n",
        "    'N_fiber_24' : [1.224, 2.449, 3.674, 4.898, 12.247, 17.146 ],\n",
        "    'N_fiber_31' : [1.391, 2.783, 4.175, 5.567, 13.919, 19.487 ],\n",
        "    'N_fiber_37' : [1.52, 3.041, 4.562, 6.082, 15.206, 21.289 ],\n",
        "    'N_fiber_57' : [1.887, 3.774, 5.662, 7.549, 18.874, 26.424 ],\n",
        "    'N_fiber_79' : [2.222, 4.444, 6.666, 8.888, 22.22, 31.108 ],\n",
        "}\n",
        "\n",
        "input_df = pd.DataFrame(data)\n",
        "output_df = pd.DataFrame(output)\n",
        "\n",
        "print(\"Input DataFrame:\")\n",
        "print(input_df)\n",
        "\n",
        "print(\"Output DataFrame:\")\n",
        "print(output_df)"
      ],
      "metadata": {
        "id": "Zuiawl5RPdow"
      },
      "execution_count": null,
      "outputs": []
    },
    {
      "cell_type": "code",
      "source": [
        "Atmospheric_attenuation = np.array([2.641, 1.194, 0.741, 0.527, 0.163, 0.116 ])\n",
        "Fiber_Lazer_Weapon_System_Range = np.array([1, 2, 3, 4, 10, 14])\n",
        "N_fiber_1  = np.array([0.25, 0.5, 0.75, 1, 2.5, 3.5])\n",
        "N_fiber_8  = np.array([0.707, 1.1414, 2.121, 2.828, 7.071, 9.899])\n",
        "N_fiber_10 = np.array([0.79, 1.581, 2.371, 3.162, 7.905, 11.067])\n",
        "N_fiber_12 = np.array([0.866, 1.732, 2.598, 3.464, 8.66, 12.12 ])\n",
        "N_fiber_14 = np.array([0.935, 1.87, 2.806, 3.741, 9.354, 13.09 ])\n",
        "N_fiber_16 = np.array([1, 2, 3, 4, 10, 14 ])\n",
        "N_fiber_24 = np.array([1.224, 2.449, 3.674, 4.898, 12.247, 17.146 ])\n",
        "N_fiber_31 = np.array([1.391, 2.783, 4.175, 5.567, 13.919, 19.487 ])\n",
        "N_fiber_37 = np.array([1.52, 3.041, 4.562, 6.082, 15.206, 21.289 ])\n",
        "N_fiber_57 = np.array([1.887, 3.774, 5.662, 7.549, 18.874, 26.424 ])\n",
        "N_fiber_79 = np.array([2.222, 4.444, 6.666, 8.888, 22.22, 31.108 ])"
      ],
      "metadata": {
        "id": "KP5JEBhrP9oc"
      },
      "execution_count": 25,
      "outputs": []
    },
    {
      "cell_type": "code",
      "source": [
        "print(Atmospheric_attenuation.shape)\n",
        "print(Fiber_Lazer_Weapon_System_Range.shape)\n",
        "print(N_fiber_1.shape)\n",
        "print(N_fiber_8.shape)\n",
        "print(N_fiber_10.shape)\n",
        "print(N_fiber_12.shape)\n",
        "print(N_fiber_14.shape)\n",
        "print(N_fiber_16.shape)\n",
        "print(N_fiber_24.shape)\n",
        "print(N_fiber_31.shape)\n",
        "print(N_fiber_37.shape)\n",
        "print(N_fiber_79.shape)"
      ],
      "metadata": {
        "id": "nGgoozkHQGNy"
      },
      "execution_count": null,
      "outputs": []
    },
    {
      "cell_type": "code",
      "source": [
        "from sklearn.model_selection import train_test_split\n",
        "import numpy as np\n",
        "\n",
        "# Assuming you have your data loaded into Atmospheric_attenuation, Fiber_Lazer_Weapon_System_Range, N_fiber_1, ..., N_fiber_79\n",
        "\n",
        "# Stack features and targets\n",
        "X = np.column_stack((Atmospheric_attenuation, Fiber_Lazer_Weapon_System_Range))\n",
        "y = np.column_stack((N_fiber_1, N_fiber_8, N_fiber_10, N_fiber_12, N_fiber_14, N_fiber_16, N_fiber_24, N_fiber_31, N_fiber_37, N_fiber_79))\n",
        "\n",
        "# Split the data into training and testing sets\n",
        "X_train, X_test, y_train, y_test = train_test_split(X, y, test_size=0.2, random_state=42)\n",
        "\n",
        "# Reshape the target variable y\n",
        "y_train = y_train.reshape(-1, 1)  # Adjust the number of outputs based on your specific case\n",
        "y_test = y_test.reshape(-1, 1)    # Adjust the number of outputs based on your specific case\n",
        "\n",
        "# Now y_train and y_test have the shape (number of samples, number of outputs)\n"
      ],
      "metadata": {
        "id": "3xYnFUIZQIsD"
      },
      "execution_count": 27,
      "outputs": []
    },
    {
      "cell_type": "code",
      "source": [
        "X = np.column_stack((Atmospheric_attenuation, Fiber_Lazer_Weapon_System_Range))\n",
        "y = np.column_stack((N_fiber_1, N_fiber_8,N_fiber_10, N_fiber_12, N_fiber_14, N_fiber_16, N_fiber_24, N_fiber_31, N_fiber_37, N_fiber_79[:6]))\n",
        "X_train, X_test, y_train, y_test = train_test_split(X, y, test_size=0.2, random_state=42)"
      ],
      "metadata": {
        "id": "Bga3R7NPQKrT"
      },
      "execution_count": 28,
      "outputs": []
    },
    {
      "cell_type": "code",
      "source": [
        "scaler_X = StandardScaler()\n",
        "X_train_scaled = scaler_X.fit_transform(X_train)\n",
        "X_test_scaled = scaler_X.transform(X_test)\n",
        "\n",
        "scaler_y = StandardScaler()\n",
        "y_train_scaled = scaler_y.fit_transform(y_train.ravel().reshape(-1, 1))\n",
        "y_test_scaled = scaler_y.transform(y_test.ravel().reshape(-1, 1))"
      ],
      "metadata": {
        "id": "1JKImRIDQLU9"
      },
      "execution_count": 29,
      "outputs": []
    },
    {
      "cell_type": "code",
      "source": [
        "from sklearn.preprocessing import StandardScaler\n",
        "from tensorflow.keras.models import Sequential\n",
        "from tensorflow.keras.layers import Dense, Dropout\n",
        "from tensorflow.keras.callbacks import EarlyStopping\n",
        "\n",
        "# Assuming X_train and y_train are your training data\n",
        "# You can use StandardScaler to scale your features and labels\n",
        "scaler_X = StandardScaler()\n",
        "scaler_y = StandardScaler()\n",
        "\n",
        "X_train_scaled = scaler_X.fit_transform(X_train)\n",
        "y_train_scaled = scaler_y.fit_transform(y_train)\n",
        "\n",
        "# Check and adjust the size of X_train_scaled and y_train_scaled\n",
        "if X_train_scaled.shape[0] != y_train_scaled.shape[0]:\n",
        "    min_samples = min(X_train_scaled.shape[0], y_train_scaled.shape[0])\n",
        "    X_train_scaled = X_train_scaled[:min_samples, ...]\n",
        "    y_train_scaled = y_train_scaled[:min_samples, ...]\n",
        "\n",
        "# Build and compile the model\n",
        "model = Sequential()\n",
        "model.add(Dense(50, input_dim=2, activation='relu'))\n",
        "model.add(Dropout(0.2))  # Adding dropout layer\n",
        "model.add(Dense(50, activation='relu'))\n",
        "model.add(Dropout(0.2))  # Adding dropout layer\n",
        "model.add(Dense(10, activation='linear'))\n",
        "model.compile(loss='mean_squared_error', optimizer='adam', metrics=['mse'])\n",
        "\n",
        "# Use EarlyStopping to stop training if the validation loss doesn't improve\n",
        "early_stopping = EarlyStopping(monitor='val_loss', patience=10, restore_best_weights=True)\n",
        "\n",
        "# Fit the model with validation data and early stopping\n",
        "history = model.fit(X_train_scaled, y_train_scaled, epochs=100, batch_size=32, verbose=2, validation_split=0.2, callbacks=[early_stopping])\n",
        "\n",
        "# Evaluate on a test set (assuming X_test and y_test are your test data)\n",
        "X_test_scaled = scaler_X.transform(X_test)\n",
        "y_test_scaled = scaler_y.transform(y_test)\n",
        "test_loss = model.evaluate(X_test_scaled, y_test_scaled, verbose=0)\n",
        "print(f'Test Loss: {test_loss[0]}, Test MSE: {test_loss[1]}')\n",
        "\n",
        "\n"
      ],
      "metadata": {
        "id": "KF4yrlPoQNCy"
      },
      "execution_count": null,
      "outputs": []
    },
    {
      "cell_type": "code",
      "source": [
        "y_pred_scaled = model.predict(X_test_scaled)\n",
        "y_pred = scaler_y.inverse_transform(y_pred_scaled)"
      ],
      "metadata": {
        "id": "e3pnGh_GQO9x"
      },
      "execution_count": null,
      "outputs": []
    },
    {
      "cell_type": "code",
      "source": [
        "import matplotlib.pyplot as plt\n",
        "import numpy as np\n",
        "\n",
        "# Assuming y_test and y_pred are your actual and predicted values\n",
        "min_size = min(len(y_test), len(y_pred))\n",
        "y_test = y_test[:min_size]\n",
        "y_pred = y_pred[:min_size]\n",
        "\n",
        "# Check if sizes are the same\n",
        "if len(y_test) != len(y_pred):\n",
        "    raise ValueError(\"Sizes of y_test and y_pred must be the same.\")\n",
        "\n",
        "# Plot the scatter plot with lines connecting the points\n",
        "plt.figure(figsize=(10, 6))\n",
        "for i in range(min_size):\n",
        "    plt.plot(range(len(y_test[i])), y_test[i], marker='o', linestyle='-', label=f'N-fiber and M² real time {i+1} (Actual)')\n",
        "    plt.plot(range(len(y_pred[i])), y_pred[i], marker='x', linestyle='--', label=f'N-fiber and M² Predicted Values {i+1}')\n",
        "\n",
        "plt.xlabel('Data Point Index')\n",
        "plt.ylabel('Values')\n",
        "plt.legend()\n",
        "plt.title('Comparison of Predicted vs Actual Values for Each Data Point')\n",
        "plt.grid(True)\n",
        "plt.show()\n",
        "\n"
      ],
      "metadata": {
        "id": "RCxzxqmWQQS9"
      },
      "execution_count": null,
      "outputs": []
    },
    {
      "cell_type": "code",
      "source": [
        "for i in range(len(y_test)):\n",
        "    print(f'Real: {y_test[i]}, Predicted: {y_pred[i]}')"
      ],
      "metadata": {
        "id": "PdMDd_saQk4M"
      },
      "execution_count": null,
      "outputs": []
    },
    {
      "cell_type": "code",
      "source": [
        "import numpy as np\n",
        "import matplotlib.pyplot as plt\n",
        "\n",
        "y_test = np.array(y_test)\n",
        "y_pred = np.array(y_pred)\n",
        "\n",
        "plt.plot(y_test, label='N-Fibers')\n",
        "plt.plot(y_pred, label='Real Time N-Fiber Values Line')\n",
        "plt.xlabel('FLWS')\n",
        "plt.ylabel('M²')\n",
        "plt.title('Preach verileri')\n",
        "plt.legend(fontsize='5')  # You can adjust the fontsize parameter\n",
        "plt.show()"
      ],
      "metadata": {
        "id": "B5DrXh2fQnML"
      },
      "execution_count": null,
      "outputs": []
    },
    {
      "cell_type": "code",
      "source": [
        "plt.plot(y_test)\n",
        "plt.plot(y_pred)\n",
        "plt.xlabel('FLWS')\n",
        "plt.ylabel('M²')\n",
        "plt.title('Preach verileri')\n",
        "plt.show()"
      ],
      "metadata": {
        "id": "eCpbkl8VQx_d"
      },
      "execution_count": null,
      "outputs": []
    }
  ]
}