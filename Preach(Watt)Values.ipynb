{
  "nbformat": 4,
  "nbformat_minor": 0,
  "metadata": {
    "colab": {
      "provenance": [],
      "authorship_tag": "ABX9TyP4HMy7SfxYYrALiFuszlZr",
      "include_colab_link": true
    },
    "kernelspec": {
      "name": "python3",
      "display_name": "Python 3"
    },
    "language_info": {
      "name": "python"
    }
  },
  "cells": [
    {
      "cell_type": "markdown",
      "metadata": {
        "id": "view-in-github",
        "colab_type": "text"
      },
      "source": [
        "<a href=\"https://colab.research.google.com/github/computerengineer44/Directed-Energy-Weapon-Systems-Artificial-Neural-Networks-Analysis/blob/main/Preach(Watt)Values.ipynb\" target=\"_parent\"><img src=\"https://colab.research.google.com/assets/colab-badge.svg\" alt=\"Open In Colab\"/></a>"
      ]
    },
    {
      "cell_type": "code",
      "execution_count": null,
      "metadata": {
        "id": "QGXZVCvWv_Ew"
      },
      "outputs": [],
      "source": [
        "import pandas as pd\n",
        "import numpy as np\n",
        "import matplotlib.pyplot as plt\n",
        "from sklearn.model_selection import train_test_split\n",
        "from sklearn.preprocessing import StandardScaler\n",
        "from sklearn.neural_network import MLPRegressor\n",
        "from sklearn.metrics import mean_squared_error, mean_absolute_error\n",
        "from tensorflow.keras.models import Sequential\n",
        "from tensorflow.keras.layers import Dense"
      ]
    },
    {
      "cell_type": "code",
      "source": [
        "Atmospheric_attenuation = np.array([2.641, 1.194, 0.741, 0.527, 0.163, 0.116 ])\n",
        "Fiber_Lazer_Weapon_System_Range = np.array([1, 2, 3, 4, 10, 14])\n",
        "N_fiber_1  = np.array([4780, 3080, 2420, 2030, 1310, 940 ])\n",
        "N_fiber_8  = np.array([36268, 24643, 19360, 16240, 10480, 7520])\n",
        "N_fiber_10 = np.array([47800, 30800, 24200, 20300, 13100, 9400])\n",
        "N_fiber_12 = np.array([57360, 36960, 29040, 24360, 15720, 11280 ])\n",
        "N_fiber_14 = np.array([66920, 43120, 33880, 28240, 18340, 13160 ])\n",
        "N_fiber_16 = np.array([76480, 49280, 38720, 32480, 20960, 15040 ])\n",
        "N_fiber_24 = np.array([114720, 73920, 58080, 48720, 31440, 22560 ])\n",
        "N_fiber_31 = np.array([148180, 95480, 75020, 62930, 40610, 29140 ])\n",
        "N_fiber_37 = np.array([176860, 113960, 89540, 75110, 48470, 34780 ])\n",
        "N_fiber_57 = np.array([272460, 175560, 137940, 115710, 74670, 53580 ])\n",
        "N_fiber_79 = np.array([377620, 243320, 191180, 160370, 103490, 74260 ])\n"
      ],
      "metadata": {
        "id": "B0SSnciXwLjF"
      },
      "execution_count": null,
      "outputs": []
    },
    {
      "cell_type": "code",
      "source": [
        "import pandas as pd\n",
        "\n",
        "data = {\n",
        "    'Atmospheric_attenuation' : [2.641, 1.194, 0.741, 0.527, 0.163, 0.116 ],\n",
        "    'Fiber_Lazer_Weapon_System_Range' : [1, 2, 3, 4, 10, 14],\n",
        "\n",
        "}\n",
        "\n",
        "output = {\n",
        "    'N_fiber_1' : [4780, 3080, 2420, 2030, 1310, 940 ],\n",
        "    'N_fiber_8'  : [36268, 24643, 19360, 16240, 10480, 7520],\n",
        "    'N_fiber_10' : [47800, 30800, 24200, 20300, 13100, 9400],\n",
        "    'N_fiber_12' : [57360, 36960, 29040, 24360, 15720, 11280 ],\n",
        "    'N_fiber_14' : [66920, 43120, 33880, 28240, 18340, 13160 ],\n",
        "    'N_fiber_16' : [76480, 49280, 38720, 32480, 20960, 15040 ],\n",
        "    'N_fiber_24' : [114720, 73920, 58080, 48720, 31440, 22560 ],\n",
        "    'N_fiber_31' : [148180, 95480, 75020, 62930, 40610, 29140 ],\n",
        "    'N_fiber_37' : [176860, 113960, 89540, 75110, 48470, 34780 ],\n",
        "    'N_fiber_57' : [272460, 175560, 137940, 115710, 74670, 53580 ],\n",
        "    'N_fiber_79' : [377620, 243320, 191180, 160370, 103490, 74260 ],\n",
        "}\n",
        "\n",
        "input_df = pd.DataFrame(data)\n",
        "output_df = pd.DataFrame(output)\n",
        "\n",
        "print(\"Input DataFrame:\")\n",
        "print(input_df)\n",
        "\n",
        "print(\"Output DataFrame:\")\n",
        "print(output_df)\n"
      ],
      "metadata": {
        "id": "raoP4KoYzKly"
      },
      "execution_count": null,
      "outputs": []
    },
    {
      "cell_type": "code",
      "source": [
        "Atmospheric_attenuation = np.array([2.641, 1.194, 0.741, 0.527, 0.163, 0.116 ])\n",
        "Fiber_Lazer_Weapon_System_Range = np.array([1, 2, 3, 4, 10, 14])\n",
        "N_fiber_1  = np.array([4780, 3080, 2420, 2030, 1310, 940 ])\n",
        "N_fiber_8  = np.array([36268, 24643, 19360, 16240, 10480, 7520])\n",
        "N_fiber_10 = np.array([47800, 30800, 24200, 20300, 13100, 9400])\n",
        "N_fiber_12 = np.array([57360, 36960, 29040, 24360, 15720, 11280 ])\n",
        "N_fiber_14 = np.array([66920, 43120, 33880, 28240, 18340, 13160 ])\n",
        "N_fiber_16 = np.array([76480, 49280, 38720, 32480, 20960, 15040 ])\n",
        "N_fiber_24 = np.array([114720, 73920, 58080, 48720, 31440, 22560 ])\n",
        "N_fiber_31 = np.array([148180, 95480, 75020, 62930, 40610, 29140 ])\n",
        "N_fiber_37 = np.array([176860, 113960, 89540, 75110, 48470, 34780 ])\n",
        "N_fiber_57 = np.array([272460, 175560, 137940, 115710, 74670, 53580 ])\n",
        "N_fiber_79 = np.array([377620, 243320, 191180, 160370, 103490, 74260 ])"
      ],
      "metadata": {
        "id": "F7GSSlIi1FcH"
      },
      "execution_count": null,
      "outputs": []
    },
    {
      "cell_type": "code",
      "source": [
        "print(Atmospheric_attenuation.shape)\n",
        "print(Fiber_Lazer_Weapon_System_Range.shape)\n",
        "print(N_fiber_1.shape)\n",
        "print(N_fiber_8.shape)\n",
        "print(N_fiber_10.shape)\n",
        "print(N_fiber_12.shape)\n",
        "print(N_fiber_14.shape)\n",
        "print(N_fiber_16.shape)\n",
        "print(N_fiber_24.shape)\n",
        "print(N_fiber_31.shape)\n",
        "print(N_fiber_37.shape)\n",
        "print(N_fiber_79.shape)\n"
      ],
      "metadata": {
        "id": "aTdNmnXp2Oco"
      },
      "execution_count": null,
      "outputs": []
    },
    {
      "cell_type": "code",
      "source": [
        "from sklearn.model_selection import train_test_split\n",
        "import numpy as np\n",
        "\n",
        "# Assuming you have your data loaded into Atmospheric_attenuation, Fiber_Lazer_Weapon_System_Range, N_fiber_1, ..., N_fiber_79\n",
        "\n",
        "# Stack features and targets\n",
        "X = np.column_stack((Atmospheric_attenuation, Fiber_Lazer_Weapon_System_Range))\n",
        "y = np.column_stack((N_fiber_1, N_fiber_8, N_fiber_10, N_fiber_12, N_fiber_14, N_fiber_16, N_fiber_24, N_fiber_31, N_fiber_37, N_fiber_79))\n",
        "\n",
        "# Split the data into training and testing sets\n",
        "X_train, X_test, y_train, y_test = train_test_split(X, y, test_size=0.2, random_state=42)\n",
        "\n",
        "# Reshape the target variable y\n",
        "y_train = y_train.reshape(-1, 1)  # Adjust the number of outputs based on your specific case\n",
        "y_test = y_test.reshape(-1, 1)    # Adjust the number of outputs based on your specific case\n",
        "\n",
        "# Now y_train and y_test have the shape (number of samples, number of outputs)\n"
      ],
      "metadata": {
        "id": "Ysbp-ScF2uHo"
      },
      "execution_count": null,
      "outputs": []
    },
    {
      "cell_type": "code",
      "source": [
        "# Verileri eğitim ve test setlerine ayıralım\n",
        "X = np.column_stack((Atmospheric_attenuation, Fiber_Lazer_Weapon_System_Range))\n",
        "y = np.column_stack((N_fiber_1, N_fiber_8,N_fiber_10, N_fiber_12, N_fiber_14, N_fiber_16, N_fiber_24, N_fiber_31, N_fiber_37, N_fiber_79[:6]))\n",
        "X_train, X_test, y_train, y_test = train_test_split(X, y, test_size=0.2, random_state=42)"
      ],
      "metadata": {
        "id": "UlsEqdN32-vv"
      },
      "execution_count": null,
      "outputs": []
    },
    {
      "cell_type": "code",
      "source": [
        "scaler_X = StandardScaler()\n",
        "X_train_scaled = scaler_X.fit_transform(X_train)\n",
        "X_test_scaled = scaler_X.transform(X_test)\n",
        "\n",
        "scaler_y = StandardScaler()\n",
        "y_train_scaled = scaler_y.fit_transform(y_train.ravel().reshape(-1, 1))\n",
        "y_test_scaled = scaler_y.transform(y_test.ravel().reshape(-1, 1))\n"
      ],
      "metadata": {
        "id": "HmRZ-hu63Hb5"
      },
      "execution_count": null,
      "outputs": []
    },
    {
      "cell_type": "code",
      "source": [
        "from sklearn.preprocessing import StandardScaler\n",
        "from tensorflow.keras.models import Sequential\n",
        "from tensorflow.keras.layers import Dense\n",
        "\n",
        "# Assuming X_train and y_train are your training data\n",
        "# You can use StandardScaler to scale your features and labels\n",
        "scaler_X = StandardScaler()\n",
        "scaler_y = StandardScaler()\n",
        "\n",
        "X_train_scaled = scaler_X.fit_transform(X_train)\n",
        "y_train_scaled = scaler_y.fit_transform(y_train)\n",
        "\n",
        "# Check and adjust the size of X_train_scaled and y_train_scaled\n",
        "if X_train_scaled.shape[0] != y_train_scaled.shape[0]:\n",
        "    min_samples = min(X_train_scaled.shape[0], y_train_scaled.shape[0])\n",
        "    X_train_scaled = X_train_scaled[:min_samples, ...]\n",
        "    y_train_scaled = y_train_scaled[:min_samples, ...]\n",
        "\n",
        "# Build and compile the model\n",
        "model = Sequential()\n",
        "model.add(Dense(10, input_dim=2, activation='relu'))\n",
        "model.add(Dense(10, activation='linear'))\n",
        "model.compile(loss='mean_squared_error', optimizer='adam')\n",
        "\n",
        "# Fit the model\n",
        "model.fit(X_train_scaled, y_train_scaled, epochs=100, batch_size=1, verbose=2)\n"
      ],
      "metadata": {
        "id": "9y4rjlgw3LDH"
      },
      "execution_count": null,
      "outputs": []
    },
    {
      "cell_type": "code",
      "source": [
        "y_pred_scaled = model.predict(X_test_scaled)\n",
        "y_pred = scaler_y.inverse_transform(y_pred_scaled)"
      ],
      "metadata": {
        "id": "vumDaZhU3Mv7"
      },
      "execution_count": null,
      "outputs": []
    },
    {
      "cell_type": "code",
      "source": [
        "import matplotlib.pyplot as plt\n",
        "import numpy as np\n",
        "\n",
        "# Assuming y_test and y_pred are your actual and predicted values\n",
        "min_size = min(len(y_test), len(y_pred))\n",
        "y_test = y_test[:min_size]\n",
        "y_pred = y_pred[:min_size]\n",
        "\n",
        "# Check if sizes are the same\n",
        "if len(y_test) != len(y_pred):\n",
        "    raise ValueError(\"Sizes of y_test and y_pred must be the same.\")\n",
        "\n",
        "# Plot the scatter plot for all data points\n",
        "plt.figure(figsize=(10, 6))\n",
        "for i in range(min_size):\n",
        "    plt.scatter(range(len(y_test[i])), y_test[i], label=f'N-fiber and Watt real time {i+1}')\n",
        "    plt.scatter(range(len(y_pred[i])), y_pred[i], label=f'N-fiber and Watt Predicted Values {i+1}', marker='x')\n",
        "\n",
        "plt.xlabel('Data Point Index')\n",
        "plt.ylabel('Values')\n",
        "plt.legend()\n",
        "plt.title('Comparison of Predicted vs Actual Values for Each Data Point')\n",
        "plt.show()\n",
        "\n",
        "\n",
        "\n",
        "\n",
        "\n",
        "\n"
      ],
      "metadata": {
        "id": "_7XkDdN_3aUL"
      },
      "execution_count": null,
      "outputs": []
    },
    {
      "cell_type": "code",
      "source": [
        "for i in range(len(y_test)):\n",
        "    print(f'Real: {y_test[i]}, Predicted: {y_pred[i]}')"
      ],
      "metadata": {
        "id": "cCK5qOF-3cxT"
      },
      "execution_count": null,
      "outputs": []
    },
    {
      "cell_type": "code",
      "source": [
        "import numpy as np\n",
        "import matplotlib.pyplot as plt\n",
        "\n",
        "y_test = np.array(y_test)\n",
        "y_pred = np.array(y_pred)\n",
        "\n",
        "plt.plot(y_test, label='N-Fibers')\n",
        "plt.plot(y_pred, label='Real Time N-Fiber Values Line')\n",
        "plt.xlabel('FLWS')\n",
        "plt.ylabel('Watt')\n",
        "plt.title('Preach verileri')\n",
        "plt.legend(fontsize='5')  # You can adjust the fontsize parameter\n",
        "plt.show()"
      ],
      "metadata": {
        "id": "zBZ4ZjDE3gUz"
      },
      "execution_count": null,
      "outputs": []
    },
    {
      "cell_type": "code",
      "source": [
        "plt.plot(y_test)\n",
        "plt.plot(y_pred)\n",
        "plt.xlabel('FLWS')\n",
        "plt.ylabel('Watt')\n",
        "plt.title('Preach verileri')\n",
        "plt.show()"
      ],
      "metadata": {
        "id": "vp0EljtT3jgQ"
      },
      "execution_count": null,
      "outputs": []
    }
  ]
}